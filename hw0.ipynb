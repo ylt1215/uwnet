{
  "nbformat": 4,
  "nbformat_minor": 0,
  "metadata": {
    "colab": {
      "name": "Copy of mnist_pytorch.ipynb",
      "provenance": [],
      "collapsed_sections": []
    },
    "kernelspec": {
      "name": "python3",
      "display_name": "Python 3"
    },
    "accelerator": "GPU",
    "widgets": {
      "application/vnd.jupyter.widget-state+json": {
        "71624cee983b4f5ba6109cb58d065991": {
          "model_module": "@jupyter-widgets/controls",
          "model_name": "HBoxModel",
          "model_module_version": "1.5.0",
          "state": {
            "_view_name": "HBoxView",
            "_dom_classes": [],
            "_model_name": "HBoxModel",
            "_view_module": "@jupyter-widgets/controls",
            "_model_module_version": "1.5.0",
            "_view_count": null,
            "_view_module_version": "1.5.0",
            "box_style": "",
            "layout": "IPY_MODEL_eeb1ebc3bbf04f27ae4dff05c0f29060",
            "_model_module": "@jupyter-widgets/controls",
            "children": [
              "IPY_MODEL_611acab2534c4ecd9b40e1102f56d6f2",
              "IPY_MODEL_732a2699234247168b29e3b60ccdad7c",
              "IPY_MODEL_5026a8eb39594e79ac96b44108a8e2e4"
            ]
          }
        },
        "eeb1ebc3bbf04f27ae4dff05c0f29060": {
          "model_module": "@jupyter-widgets/base",
          "model_name": "LayoutModel",
          "model_module_version": "1.2.0",
          "state": {
            "_view_name": "LayoutView",
            "grid_template_rows": null,
            "right": null,
            "justify_content": null,
            "_view_module": "@jupyter-widgets/base",
            "overflow": null,
            "_model_module_version": "1.2.0",
            "_view_count": null,
            "flex_flow": null,
            "width": null,
            "min_width": null,
            "border": null,
            "align_items": null,
            "bottom": null,
            "_model_module": "@jupyter-widgets/base",
            "top": null,
            "grid_column": null,
            "overflow_y": null,
            "overflow_x": null,
            "grid_auto_flow": null,
            "grid_area": null,
            "grid_template_columns": null,
            "flex": null,
            "_model_name": "LayoutModel",
            "justify_items": null,
            "grid_row": null,
            "max_height": null,
            "align_content": null,
            "visibility": null,
            "align_self": null,
            "height": null,
            "min_height": null,
            "padding": null,
            "grid_auto_rows": null,
            "grid_gap": null,
            "max_width": null,
            "order": null,
            "_view_module_version": "1.2.0",
            "grid_template_areas": null,
            "object_position": null,
            "object_fit": null,
            "grid_auto_columns": null,
            "margin": null,
            "display": null,
            "left": null
          }
        },
        "611acab2534c4ecd9b40e1102f56d6f2": {
          "model_module": "@jupyter-widgets/controls",
          "model_name": "HTMLModel",
          "model_module_version": "1.5.0",
          "state": {
            "_view_name": "HTMLView",
            "style": "IPY_MODEL_54792439293d4b018267667574f480d0",
            "_dom_classes": [],
            "description": "",
            "_model_name": "HTMLModel",
            "placeholder": "​",
            "_view_module": "@jupyter-widgets/controls",
            "_model_module_version": "1.5.0",
            "value": "",
            "_view_count": null,
            "_view_module_version": "1.5.0",
            "description_tooltip": null,
            "_model_module": "@jupyter-widgets/controls",
            "layout": "IPY_MODEL_43a983f4389e4b32b61d68efbe230da9"
          }
        },
        "732a2699234247168b29e3b60ccdad7c": {
          "model_module": "@jupyter-widgets/controls",
          "model_name": "FloatProgressModel",
          "model_module_version": "1.5.0",
          "state": {
            "_view_name": "ProgressView",
            "style": "IPY_MODEL_86574986a4bc4828a54804d6970a4bd4",
            "_dom_classes": [],
            "description": "",
            "_model_name": "FloatProgressModel",
            "bar_style": "success",
            "max": 9912422,
            "_view_module": "@jupyter-widgets/controls",
            "_model_module_version": "1.5.0",
            "value": 9912422,
            "_view_count": null,
            "_view_module_version": "1.5.0",
            "orientation": "horizontal",
            "min": 0,
            "description_tooltip": null,
            "_model_module": "@jupyter-widgets/controls",
            "layout": "IPY_MODEL_9e0733a61591461d84353859c76cab4c"
          }
        },
        "5026a8eb39594e79ac96b44108a8e2e4": {
          "model_module": "@jupyter-widgets/controls",
          "model_name": "HTMLModel",
          "model_module_version": "1.5.0",
          "state": {
            "_view_name": "HTMLView",
            "style": "IPY_MODEL_32d6b5d4d3ea435f80e7578897649205",
            "_dom_classes": [],
            "description": "",
            "_model_name": "HTMLModel",
            "placeholder": "​",
            "_view_module": "@jupyter-widgets/controls",
            "_model_module_version": "1.5.0",
            "value": " 9913344/? [00:00&lt;00:00, 41847343.58it/s]",
            "_view_count": null,
            "_view_module_version": "1.5.0",
            "description_tooltip": null,
            "_model_module": "@jupyter-widgets/controls",
            "layout": "IPY_MODEL_2763a81ece1a49a6b2e5eca2590660c8"
          }
        },
        "54792439293d4b018267667574f480d0": {
          "model_module": "@jupyter-widgets/controls",
          "model_name": "DescriptionStyleModel",
          "model_module_version": "1.5.0",
          "state": {
            "_view_name": "StyleView",
            "_model_name": "DescriptionStyleModel",
            "description_width": "",
            "_view_module": "@jupyter-widgets/base",
            "_model_module_version": "1.5.0",
            "_view_count": null,
            "_view_module_version": "1.2.0",
            "_model_module": "@jupyter-widgets/controls"
          }
        },
        "43a983f4389e4b32b61d68efbe230da9": {
          "model_module": "@jupyter-widgets/base",
          "model_name": "LayoutModel",
          "model_module_version": "1.2.0",
          "state": {
            "_view_name": "LayoutView",
            "grid_template_rows": null,
            "right": null,
            "justify_content": null,
            "_view_module": "@jupyter-widgets/base",
            "overflow": null,
            "_model_module_version": "1.2.0",
            "_view_count": null,
            "flex_flow": null,
            "width": null,
            "min_width": null,
            "border": null,
            "align_items": null,
            "bottom": null,
            "_model_module": "@jupyter-widgets/base",
            "top": null,
            "grid_column": null,
            "overflow_y": null,
            "overflow_x": null,
            "grid_auto_flow": null,
            "grid_area": null,
            "grid_template_columns": null,
            "flex": null,
            "_model_name": "LayoutModel",
            "justify_items": null,
            "grid_row": null,
            "max_height": null,
            "align_content": null,
            "visibility": null,
            "align_self": null,
            "height": null,
            "min_height": null,
            "padding": null,
            "grid_auto_rows": null,
            "grid_gap": null,
            "max_width": null,
            "order": null,
            "_view_module_version": "1.2.0",
            "grid_template_areas": null,
            "object_position": null,
            "object_fit": null,
            "grid_auto_columns": null,
            "margin": null,
            "display": null,
            "left": null
          }
        },
        "86574986a4bc4828a54804d6970a4bd4": {
          "model_module": "@jupyter-widgets/controls",
          "model_name": "ProgressStyleModel",
          "model_module_version": "1.5.0",
          "state": {
            "_view_name": "StyleView",
            "_model_name": "ProgressStyleModel",
            "description_width": "",
            "_view_module": "@jupyter-widgets/base",
            "_model_module_version": "1.5.0",
            "_view_count": null,
            "_view_module_version": "1.2.0",
            "bar_color": null,
            "_model_module": "@jupyter-widgets/controls"
          }
        },
        "9e0733a61591461d84353859c76cab4c": {
          "model_module": "@jupyter-widgets/base",
          "model_name": "LayoutModel",
          "model_module_version": "1.2.0",
          "state": {
            "_view_name": "LayoutView",
            "grid_template_rows": null,
            "right": null,
            "justify_content": null,
            "_view_module": "@jupyter-widgets/base",
            "overflow": null,
            "_model_module_version": "1.2.0",
            "_view_count": null,
            "flex_flow": null,
            "width": null,
            "min_width": null,
            "border": null,
            "align_items": null,
            "bottom": null,
            "_model_module": "@jupyter-widgets/base",
            "top": null,
            "grid_column": null,
            "overflow_y": null,
            "overflow_x": null,
            "grid_auto_flow": null,
            "grid_area": null,
            "grid_template_columns": null,
            "flex": null,
            "_model_name": "LayoutModel",
            "justify_items": null,
            "grid_row": null,
            "max_height": null,
            "align_content": null,
            "visibility": null,
            "align_self": null,
            "height": null,
            "min_height": null,
            "padding": null,
            "grid_auto_rows": null,
            "grid_gap": null,
            "max_width": null,
            "order": null,
            "_view_module_version": "1.2.0",
            "grid_template_areas": null,
            "object_position": null,
            "object_fit": null,
            "grid_auto_columns": null,
            "margin": null,
            "display": null,
            "left": null
          }
        },
        "32d6b5d4d3ea435f80e7578897649205": {
          "model_module": "@jupyter-widgets/controls",
          "model_name": "DescriptionStyleModel",
          "model_module_version": "1.5.0",
          "state": {
            "_view_name": "StyleView",
            "_model_name": "DescriptionStyleModel",
            "description_width": "",
            "_view_module": "@jupyter-widgets/base",
            "_model_module_version": "1.5.0",
            "_view_count": null,
            "_view_module_version": "1.2.0",
            "_model_module": "@jupyter-widgets/controls"
          }
        },
        "2763a81ece1a49a6b2e5eca2590660c8": {
          "model_module": "@jupyter-widgets/base",
          "model_name": "LayoutModel",
          "model_module_version": "1.2.0",
          "state": {
            "_view_name": "LayoutView",
            "grid_template_rows": null,
            "right": null,
            "justify_content": null,
            "_view_module": "@jupyter-widgets/base",
            "overflow": null,
            "_model_module_version": "1.2.0",
            "_view_count": null,
            "flex_flow": null,
            "width": null,
            "min_width": null,
            "border": null,
            "align_items": null,
            "bottom": null,
            "_model_module": "@jupyter-widgets/base",
            "top": null,
            "grid_column": null,
            "overflow_y": null,
            "overflow_x": null,
            "grid_auto_flow": null,
            "grid_area": null,
            "grid_template_columns": null,
            "flex": null,
            "_model_name": "LayoutModel",
            "justify_items": null,
            "grid_row": null,
            "max_height": null,
            "align_content": null,
            "visibility": null,
            "align_self": null,
            "height": null,
            "min_height": null,
            "padding": null,
            "grid_auto_rows": null,
            "grid_gap": null,
            "max_width": null,
            "order": null,
            "_view_module_version": "1.2.0",
            "grid_template_areas": null,
            "object_position": null,
            "object_fit": null,
            "grid_auto_columns": null,
            "margin": null,
            "display": null,
            "left": null
          }
        },
        "e1e52a82af3f40bb9dcc45ebbcffbfc9": {
          "model_module": "@jupyter-widgets/controls",
          "model_name": "HBoxModel",
          "model_module_version": "1.5.0",
          "state": {
            "_view_name": "HBoxView",
            "_dom_classes": [],
            "_model_name": "HBoxModel",
            "_view_module": "@jupyter-widgets/controls",
            "_model_module_version": "1.5.0",
            "_view_count": null,
            "_view_module_version": "1.5.0",
            "box_style": "",
            "layout": "IPY_MODEL_fbad8a82caf54dd2bb0d7a26dc558985",
            "_model_module": "@jupyter-widgets/controls",
            "children": [
              "IPY_MODEL_a8e825ae153b43159b178a097cfdf014",
              "IPY_MODEL_56ba0293af27418aaf0c46a34e5cedad",
              "IPY_MODEL_3ed58f6fb5c64bd58681b3450c24c04d"
            ]
          }
        },
        "fbad8a82caf54dd2bb0d7a26dc558985": {
          "model_module": "@jupyter-widgets/base",
          "model_name": "LayoutModel",
          "model_module_version": "1.2.0",
          "state": {
            "_view_name": "LayoutView",
            "grid_template_rows": null,
            "right": null,
            "justify_content": null,
            "_view_module": "@jupyter-widgets/base",
            "overflow": null,
            "_model_module_version": "1.2.0",
            "_view_count": null,
            "flex_flow": null,
            "width": null,
            "min_width": null,
            "border": null,
            "align_items": null,
            "bottom": null,
            "_model_module": "@jupyter-widgets/base",
            "top": null,
            "grid_column": null,
            "overflow_y": null,
            "overflow_x": null,
            "grid_auto_flow": null,
            "grid_area": null,
            "grid_template_columns": null,
            "flex": null,
            "_model_name": "LayoutModel",
            "justify_items": null,
            "grid_row": null,
            "max_height": null,
            "align_content": null,
            "visibility": null,
            "align_self": null,
            "height": null,
            "min_height": null,
            "padding": null,
            "grid_auto_rows": null,
            "grid_gap": null,
            "max_width": null,
            "order": null,
            "_view_module_version": "1.2.0",
            "grid_template_areas": null,
            "object_position": null,
            "object_fit": null,
            "grid_auto_columns": null,
            "margin": null,
            "display": null,
            "left": null
          }
        },
        "a8e825ae153b43159b178a097cfdf014": {
          "model_module": "@jupyter-widgets/controls",
          "model_name": "HTMLModel",
          "model_module_version": "1.5.0",
          "state": {
            "_view_name": "HTMLView",
            "style": "IPY_MODEL_c6dd1e612bea4c5ca4af438af0d3c200",
            "_dom_classes": [],
            "description": "",
            "_model_name": "HTMLModel",
            "placeholder": "​",
            "_view_module": "@jupyter-widgets/controls",
            "_model_module_version": "1.5.0",
            "value": "",
            "_view_count": null,
            "_view_module_version": "1.5.0",
            "description_tooltip": null,
            "_model_module": "@jupyter-widgets/controls",
            "layout": "IPY_MODEL_d68e3989fcc24369bc6472cba56c501a"
          }
        },
        "56ba0293af27418aaf0c46a34e5cedad": {
          "model_module": "@jupyter-widgets/controls",
          "model_name": "FloatProgressModel",
          "model_module_version": "1.5.0",
          "state": {
            "_view_name": "ProgressView",
            "style": "IPY_MODEL_57ad2ea6bd434ef4a89e29e8d3f34ef0",
            "_dom_classes": [],
            "description": "",
            "_model_name": "FloatProgressModel",
            "bar_style": "success",
            "max": 28881,
            "_view_module": "@jupyter-widgets/controls",
            "_model_module_version": "1.5.0",
            "value": 28881,
            "_view_count": null,
            "_view_module_version": "1.5.0",
            "orientation": "horizontal",
            "min": 0,
            "description_tooltip": null,
            "_model_module": "@jupyter-widgets/controls",
            "layout": "IPY_MODEL_10a4aa094a8743af92c2e100b6de324a"
          }
        },
        "3ed58f6fb5c64bd58681b3450c24c04d": {
          "model_module": "@jupyter-widgets/controls",
          "model_name": "HTMLModel",
          "model_module_version": "1.5.0",
          "state": {
            "_view_name": "HTMLView",
            "style": "IPY_MODEL_12d21c55b1b54cdc9b7fe5006334cfb7",
            "_dom_classes": [],
            "description": "",
            "_model_name": "HTMLModel",
            "placeholder": "​",
            "_view_module": "@jupyter-widgets/controls",
            "_model_module_version": "1.5.0",
            "value": " 29696/? [00:00&lt;00:00, 643304.54it/s]",
            "_view_count": null,
            "_view_module_version": "1.5.0",
            "description_tooltip": null,
            "_model_module": "@jupyter-widgets/controls",
            "layout": "IPY_MODEL_1ad8f58ec63b4dc594d1f19a5894ef29"
          }
        },
        "c6dd1e612bea4c5ca4af438af0d3c200": {
          "model_module": "@jupyter-widgets/controls",
          "model_name": "DescriptionStyleModel",
          "model_module_version": "1.5.0",
          "state": {
            "_view_name": "StyleView",
            "_model_name": "DescriptionStyleModel",
            "description_width": "",
            "_view_module": "@jupyter-widgets/base",
            "_model_module_version": "1.5.0",
            "_view_count": null,
            "_view_module_version": "1.2.0",
            "_model_module": "@jupyter-widgets/controls"
          }
        },
        "d68e3989fcc24369bc6472cba56c501a": {
          "model_module": "@jupyter-widgets/base",
          "model_name": "LayoutModel",
          "model_module_version": "1.2.0",
          "state": {
            "_view_name": "LayoutView",
            "grid_template_rows": null,
            "right": null,
            "justify_content": null,
            "_view_module": "@jupyter-widgets/base",
            "overflow": null,
            "_model_module_version": "1.2.0",
            "_view_count": null,
            "flex_flow": null,
            "width": null,
            "min_width": null,
            "border": null,
            "align_items": null,
            "bottom": null,
            "_model_module": "@jupyter-widgets/base",
            "top": null,
            "grid_column": null,
            "overflow_y": null,
            "overflow_x": null,
            "grid_auto_flow": null,
            "grid_area": null,
            "grid_template_columns": null,
            "flex": null,
            "_model_name": "LayoutModel",
            "justify_items": null,
            "grid_row": null,
            "max_height": null,
            "align_content": null,
            "visibility": null,
            "align_self": null,
            "height": null,
            "min_height": null,
            "padding": null,
            "grid_auto_rows": null,
            "grid_gap": null,
            "max_width": null,
            "order": null,
            "_view_module_version": "1.2.0",
            "grid_template_areas": null,
            "object_position": null,
            "object_fit": null,
            "grid_auto_columns": null,
            "margin": null,
            "display": null,
            "left": null
          }
        },
        "57ad2ea6bd434ef4a89e29e8d3f34ef0": {
          "model_module": "@jupyter-widgets/controls",
          "model_name": "ProgressStyleModel",
          "model_module_version": "1.5.0",
          "state": {
            "_view_name": "StyleView",
            "_model_name": "ProgressStyleModel",
            "description_width": "",
            "_view_module": "@jupyter-widgets/base",
            "_model_module_version": "1.5.0",
            "_view_count": null,
            "_view_module_version": "1.2.0",
            "bar_color": null,
            "_model_module": "@jupyter-widgets/controls"
          }
        },
        "10a4aa094a8743af92c2e100b6de324a": {
          "model_module": "@jupyter-widgets/base",
          "model_name": "LayoutModel",
          "model_module_version": "1.2.0",
          "state": {
            "_view_name": "LayoutView",
            "grid_template_rows": null,
            "right": null,
            "justify_content": null,
            "_view_module": "@jupyter-widgets/base",
            "overflow": null,
            "_model_module_version": "1.2.0",
            "_view_count": null,
            "flex_flow": null,
            "width": null,
            "min_width": null,
            "border": null,
            "align_items": null,
            "bottom": null,
            "_model_module": "@jupyter-widgets/base",
            "top": null,
            "grid_column": null,
            "overflow_y": null,
            "overflow_x": null,
            "grid_auto_flow": null,
            "grid_area": null,
            "grid_template_columns": null,
            "flex": null,
            "_model_name": "LayoutModel",
            "justify_items": null,
            "grid_row": null,
            "max_height": null,
            "align_content": null,
            "visibility": null,
            "align_self": null,
            "height": null,
            "min_height": null,
            "padding": null,
            "grid_auto_rows": null,
            "grid_gap": null,
            "max_width": null,
            "order": null,
            "_view_module_version": "1.2.0",
            "grid_template_areas": null,
            "object_position": null,
            "object_fit": null,
            "grid_auto_columns": null,
            "margin": null,
            "display": null,
            "left": null
          }
        },
        "12d21c55b1b54cdc9b7fe5006334cfb7": {
          "model_module": "@jupyter-widgets/controls",
          "model_name": "DescriptionStyleModel",
          "model_module_version": "1.5.0",
          "state": {
            "_view_name": "StyleView",
            "_model_name": "DescriptionStyleModel",
            "description_width": "",
            "_view_module": "@jupyter-widgets/base",
            "_model_module_version": "1.5.0",
            "_view_count": null,
            "_view_module_version": "1.2.0",
            "_model_module": "@jupyter-widgets/controls"
          }
        },
        "1ad8f58ec63b4dc594d1f19a5894ef29": {
          "model_module": "@jupyter-widgets/base",
          "model_name": "LayoutModel",
          "model_module_version": "1.2.0",
          "state": {
            "_view_name": "LayoutView",
            "grid_template_rows": null,
            "right": null,
            "justify_content": null,
            "_view_module": "@jupyter-widgets/base",
            "overflow": null,
            "_model_module_version": "1.2.0",
            "_view_count": null,
            "flex_flow": null,
            "width": null,
            "min_width": null,
            "border": null,
            "align_items": null,
            "bottom": null,
            "_model_module": "@jupyter-widgets/base",
            "top": null,
            "grid_column": null,
            "overflow_y": null,
            "overflow_x": null,
            "grid_auto_flow": null,
            "grid_area": null,
            "grid_template_columns": null,
            "flex": null,
            "_model_name": "LayoutModel",
            "justify_items": null,
            "grid_row": null,
            "max_height": null,
            "align_content": null,
            "visibility": null,
            "align_self": null,
            "height": null,
            "min_height": null,
            "padding": null,
            "grid_auto_rows": null,
            "grid_gap": null,
            "max_width": null,
            "order": null,
            "_view_module_version": "1.2.0",
            "grid_template_areas": null,
            "object_position": null,
            "object_fit": null,
            "grid_auto_columns": null,
            "margin": null,
            "display": null,
            "left": null
          }
        },
        "c83b6aa580ab4aed88f4773fa92cfa76": {
          "model_module": "@jupyter-widgets/controls",
          "model_name": "HBoxModel",
          "model_module_version": "1.5.0",
          "state": {
            "_view_name": "HBoxView",
            "_dom_classes": [],
            "_model_name": "HBoxModel",
            "_view_module": "@jupyter-widgets/controls",
            "_model_module_version": "1.5.0",
            "_view_count": null,
            "_view_module_version": "1.5.0",
            "box_style": "",
            "layout": "IPY_MODEL_d304b017d01241baa4a4de4a5227506a",
            "_model_module": "@jupyter-widgets/controls",
            "children": [
              "IPY_MODEL_76a43bfc67114eafa48a75b81367f308",
              "IPY_MODEL_f6599a88a58947b5a05413fa54c1cda4",
              "IPY_MODEL_456e1d37115d4a62ab16bf8a0d318309"
            ]
          }
        },
        "d304b017d01241baa4a4de4a5227506a": {
          "model_module": "@jupyter-widgets/base",
          "model_name": "LayoutModel",
          "model_module_version": "1.2.0",
          "state": {
            "_view_name": "LayoutView",
            "grid_template_rows": null,
            "right": null,
            "justify_content": null,
            "_view_module": "@jupyter-widgets/base",
            "overflow": null,
            "_model_module_version": "1.2.0",
            "_view_count": null,
            "flex_flow": null,
            "width": null,
            "min_width": null,
            "border": null,
            "align_items": null,
            "bottom": null,
            "_model_module": "@jupyter-widgets/base",
            "top": null,
            "grid_column": null,
            "overflow_y": null,
            "overflow_x": null,
            "grid_auto_flow": null,
            "grid_area": null,
            "grid_template_columns": null,
            "flex": null,
            "_model_name": "LayoutModel",
            "justify_items": null,
            "grid_row": null,
            "max_height": null,
            "align_content": null,
            "visibility": null,
            "align_self": null,
            "height": null,
            "min_height": null,
            "padding": null,
            "grid_auto_rows": null,
            "grid_gap": null,
            "max_width": null,
            "order": null,
            "_view_module_version": "1.2.0",
            "grid_template_areas": null,
            "object_position": null,
            "object_fit": null,
            "grid_auto_columns": null,
            "margin": null,
            "display": null,
            "left": null
          }
        },
        "76a43bfc67114eafa48a75b81367f308": {
          "model_module": "@jupyter-widgets/controls",
          "model_name": "HTMLModel",
          "model_module_version": "1.5.0",
          "state": {
            "_view_name": "HTMLView",
            "style": "IPY_MODEL_80bacec2d92f4cae8e27c01924a58205",
            "_dom_classes": [],
            "description": "",
            "_model_name": "HTMLModel",
            "placeholder": "​",
            "_view_module": "@jupyter-widgets/controls",
            "_model_module_version": "1.5.0",
            "value": "",
            "_view_count": null,
            "_view_module_version": "1.5.0",
            "description_tooltip": null,
            "_model_module": "@jupyter-widgets/controls",
            "layout": "IPY_MODEL_0b97c49f85ce4c5f845a20f2f42af8a8"
          }
        },
        "f6599a88a58947b5a05413fa54c1cda4": {
          "model_module": "@jupyter-widgets/controls",
          "model_name": "FloatProgressModel",
          "model_module_version": "1.5.0",
          "state": {
            "_view_name": "ProgressView",
            "style": "IPY_MODEL_cadaa3e5660c4e329148c3f5e6638f32",
            "_dom_classes": [],
            "description": "",
            "_model_name": "FloatProgressModel",
            "bar_style": "success",
            "max": 1648877,
            "_view_module": "@jupyter-widgets/controls",
            "_model_module_version": "1.5.0",
            "value": 1648877,
            "_view_count": null,
            "_view_module_version": "1.5.0",
            "orientation": "horizontal",
            "min": 0,
            "description_tooltip": null,
            "_model_module": "@jupyter-widgets/controls",
            "layout": "IPY_MODEL_44983b6a33b946a3a88909966efb5fb5"
          }
        },
        "456e1d37115d4a62ab16bf8a0d318309": {
          "model_module": "@jupyter-widgets/controls",
          "model_name": "HTMLModel",
          "model_module_version": "1.5.0",
          "state": {
            "_view_name": "HTMLView",
            "style": "IPY_MODEL_5dea5c9842654f70a27028c12d18ebaf",
            "_dom_classes": [],
            "description": "",
            "_model_name": "HTMLModel",
            "placeholder": "​",
            "_view_module": "@jupyter-widgets/controls",
            "_model_module_version": "1.5.0",
            "value": " 1649664/? [00:00&lt;00:00, 9868616.56it/s]",
            "_view_count": null,
            "_view_module_version": "1.5.0",
            "description_tooltip": null,
            "_model_module": "@jupyter-widgets/controls",
            "layout": "IPY_MODEL_50806719a860491c850d980fb975e2df"
          }
        },
        "80bacec2d92f4cae8e27c01924a58205": {
          "model_module": "@jupyter-widgets/controls",
          "model_name": "DescriptionStyleModel",
          "model_module_version": "1.5.0",
          "state": {
            "_view_name": "StyleView",
            "_model_name": "DescriptionStyleModel",
            "description_width": "",
            "_view_module": "@jupyter-widgets/base",
            "_model_module_version": "1.5.0",
            "_view_count": null,
            "_view_module_version": "1.2.0",
            "_model_module": "@jupyter-widgets/controls"
          }
        },
        "0b97c49f85ce4c5f845a20f2f42af8a8": {
          "model_module": "@jupyter-widgets/base",
          "model_name": "LayoutModel",
          "model_module_version": "1.2.0",
          "state": {
            "_view_name": "LayoutView",
            "grid_template_rows": null,
            "right": null,
            "justify_content": null,
            "_view_module": "@jupyter-widgets/base",
            "overflow": null,
            "_model_module_version": "1.2.0",
            "_view_count": null,
            "flex_flow": null,
            "width": null,
            "min_width": null,
            "border": null,
            "align_items": null,
            "bottom": null,
            "_model_module": "@jupyter-widgets/base",
            "top": null,
            "grid_column": null,
            "overflow_y": null,
            "overflow_x": null,
            "grid_auto_flow": null,
            "grid_area": null,
            "grid_template_columns": null,
            "flex": null,
            "_model_name": "LayoutModel",
            "justify_items": null,
            "grid_row": null,
            "max_height": null,
            "align_content": null,
            "visibility": null,
            "align_self": null,
            "height": null,
            "min_height": null,
            "padding": null,
            "grid_auto_rows": null,
            "grid_gap": null,
            "max_width": null,
            "order": null,
            "_view_module_version": "1.2.0",
            "grid_template_areas": null,
            "object_position": null,
            "object_fit": null,
            "grid_auto_columns": null,
            "margin": null,
            "display": null,
            "left": null
          }
        },
        "cadaa3e5660c4e329148c3f5e6638f32": {
          "model_module": "@jupyter-widgets/controls",
          "model_name": "ProgressStyleModel",
          "model_module_version": "1.5.0",
          "state": {
            "_view_name": "StyleView",
            "_model_name": "ProgressStyleModel",
            "description_width": "",
            "_view_module": "@jupyter-widgets/base",
            "_model_module_version": "1.5.0",
            "_view_count": null,
            "_view_module_version": "1.2.0",
            "bar_color": null,
            "_model_module": "@jupyter-widgets/controls"
          }
        },
        "44983b6a33b946a3a88909966efb5fb5": {
          "model_module": "@jupyter-widgets/base",
          "model_name": "LayoutModel",
          "model_module_version": "1.2.0",
          "state": {
            "_view_name": "LayoutView",
            "grid_template_rows": null,
            "right": null,
            "justify_content": null,
            "_view_module": "@jupyter-widgets/base",
            "overflow": null,
            "_model_module_version": "1.2.0",
            "_view_count": null,
            "flex_flow": null,
            "width": null,
            "min_width": null,
            "border": null,
            "align_items": null,
            "bottom": null,
            "_model_module": "@jupyter-widgets/base",
            "top": null,
            "grid_column": null,
            "overflow_y": null,
            "overflow_x": null,
            "grid_auto_flow": null,
            "grid_area": null,
            "grid_template_columns": null,
            "flex": null,
            "_model_name": "LayoutModel",
            "justify_items": null,
            "grid_row": null,
            "max_height": null,
            "align_content": null,
            "visibility": null,
            "align_self": null,
            "height": null,
            "min_height": null,
            "padding": null,
            "grid_auto_rows": null,
            "grid_gap": null,
            "max_width": null,
            "order": null,
            "_view_module_version": "1.2.0",
            "grid_template_areas": null,
            "object_position": null,
            "object_fit": null,
            "grid_auto_columns": null,
            "margin": null,
            "display": null,
            "left": null
          }
        },
        "5dea5c9842654f70a27028c12d18ebaf": {
          "model_module": "@jupyter-widgets/controls",
          "model_name": "DescriptionStyleModel",
          "model_module_version": "1.5.0",
          "state": {
            "_view_name": "StyleView",
            "_model_name": "DescriptionStyleModel",
            "description_width": "",
            "_view_module": "@jupyter-widgets/base",
            "_model_module_version": "1.5.0",
            "_view_count": null,
            "_view_module_version": "1.2.0",
            "_model_module": "@jupyter-widgets/controls"
          }
        },
        "50806719a860491c850d980fb975e2df": {
          "model_module": "@jupyter-widgets/base",
          "model_name": "LayoutModel",
          "model_module_version": "1.2.0",
          "state": {
            "_view_name": "LayoutView",
            "grid_template_rows": null,
            "right": null,
            "justify_content": null,
            "_view_module": "@jupyter-widgets/base",
            "overflow": null,
            "_model_module_version": "1.2.0",
            "_view_count": null,
            "flex_flow": null,
            "width": null,
            "min_width": null,
            "border": null,
            "align_items": null,
            "bottom": null,
            "_model_module": "@jupyter-widgets/base",
            "top": null,
            "grid_column": null,
            "overflow_y": null,
            "overflow_x": null,
            "grid_auto_flow": null,
            "grid_area": null,
            "grid_template_columns": null,
            "flex": null,
            "_model_name": "LayoutModel",
            "justify_items": null,
            "grid_row": null,
            "max_height": null,
            "align_content": null,
            "visibility": null,
            "align_self": null,
            "height": null,
            "min_height": null,
            "padding": null,
            "grid_auto_rows": null,
            "grid_gap": null,
            "max_width": null,
            "order": null,
            "_view_module_version": "1.2.0",
            "grid_template_areas": null,
            "object_position": null,
            "object_fit": null,
            "grid_auto_columns": null,
            "margin": null,
            "display": null,
            "left": null
          }
        },
        "4469440dd59b4801b7311597232ece3f": {
          "model_module": "@jupyter-widgets/controls",
          "model_name": "HBoxModel",
          "model_module_version": "1.5.0",
          "state": {
            "_view_name": "HBoxView",
            "_dom_classes": [],
            "_model_name": "HBoxModel",
            "_view_module": "@jupyter-widgets/controls",
            "_model_module_version": "1.5.0",
            "_view_count": null,
            "_view_module_version": "1.5.0",
            "box_style": "",
            "layout": "IPY_MODEL_144d641b74384856ab05cc9f843633c0",
            "_model_module": "@jupyter-widgets/controls",
            "children": [
              "IPY_MODEL_81b2081e3cf949c095ea71ee62af4896",
              "IPY_MODEL_aff57417e6da47e1876c7e7c7cf3e40a",
              "IPY_MODEL_4c7c58d374e842b8ad59d62d37e0c65c"
            ]
          }
        },
        "144d641b74384856ab05cc9f843633c0": {
          "model_module": "@jupyter-widgets/base",
          "model_name": "LayoutModel",
          "model_module_version": "1.2.0",
          "state": {
            "_view_name": "LayoutView",
            "grid_template_rows": null,
            "right": null,
            "justify_content": null,
            "_view_module": "@jupyter-widgets/base",
            "overflow": null,
            "_model_module_version": "1.2.0",
            "_view_count": null,
            "flex_flow": null,
            "width": null,
            "min_width": null,
            "border": null,
            "align_items": null,
            "bottom": null,
            "_model_module": "@jupyter-widgets/base",
            "top": null,
            "grid_column": null,
            "overflow_y": null,
            "overflow_x": null,
            "grid_auto_flow": null,
            "grid_area": null,
            "grid_template_columns": null,
            "flex": null,
            "_model_name": "LayoutModel",
            "justify_items": null,
            "grid_row": null,
            "max_height": null,
            "align_content": null,
            "visibility": null,
            "align_self": null,
            "height": null,
            "min_height": null,
            "padding": null,
            "grid_auto_rows": null,
            "grid_gap": null,
            "max_width": null,
            "order": null,
            "_view_module_version": "1.2.0",
            "grid_template_areas": null,
            "object_position": null,
            "object_fit": null,
            "grid_auto_columns": null,
            "margin": null,
            "display": null,
            "left": null
          }
        },
        "81b2081e3cf949c095ea71ee62af4896": {
          "model_module": "@jupyter-widgets/controls",
          "model_name": "HTMLModel",
          "model_module_version": "1.5.0",
          "state": {
            "_view_name": "HTMLView",
            "style": "IPY_MODEL_1540a41b1d3b4ab7bf8053274c3ff63c",
            "_dom_classes": [],
            "description": "",
            "_model_name": "HTMLModel",
            "placeholder": "​",
            "_view_module": "@jupyter-widgets/controls",
            "_model_module_version": "1.5.0",
            "value": "",
            "_view_count": null,
            "_view_module_version": "1.5.0",
            "description_tooltip": null,
            "_model_module": "@jupyter-widgets/controls",
            "layout": "IPY_MODEL_a812380480ec4245b56edc467c018e9c"
          }
        },
        "aff57417e6da47e1876c7e7c7cf3e40a": {
          "model_module": "@jupyter-widgets/controls",
          "model_name": "FloatProgressModel",
          "model_module_version": "1.5.0",
          "state": {
            "_view_name": "ProgressView",
            "style": "IPY_MODEL_ba8d41e893454df7af9426e2c9081a0e",
            "_dom_classes": [],
            "description": "",
            "_model_name": "FloatProgressModel",
            "bar_style": "success",
            "max": 4542,
            "_view_module": "@jupyter-widgets/controls",
            "_model_module_version": "1.5.0",
            "value": 4542,
            "_view_count": null,
            "_view_module_version": "1.5.0",
            "orientation": "horizontal",
            "min": 0,
            "description_tooltip": null,
            "_model_module": "@jupyter-widgets/controls",
            "layout": "IPY_MODEL_7325a78a64f44539b46fd57b865a138a"
          }
        },
        "4c7c58d374e842b8ad59d62d37e0c65c": {
          "model_module": "@jupyter-widgets/controls",
          "model_name": "HTMLModel",
          "model_module_version": "1.5.0",
          "state": {
            "_view_name": "HTMLView",
            "style": "IPY_MODEL_e29b501a159d46db897db3ba552b1524",
            "_dom_classes": [],
            "description": "",
            "_model_name": "HTMLModel",
            "placeholder": "​",
            "_view_module": "@jupyter-widgets/controls",
            "_model_module_version": "1.5.0",
            "value": " 5120/? [00:00&lt;00:00, 153498.04it/s]",
            "_view_count": null,
            "_view_module_version": "1.5.0",
            "description_tooltip": null,
            "_model_module": "@jupyter-widgets/controls",
            "layout": "IPY_MODEL_22c2285e54bc43d0ac1c2db4130e2e08"
          }
        },
        "1540a41b1d3b4ab7bf8053274c3ff63c": {
          "model_module": "@jupyter-widgets/controls",
          "model_name": "DescriptionStyleModel",
          "model_module_version": "1.5.0",
          "state": {
            "_view_name": "StyleView",
            "_model_name": "DescriptionStyleModel",
            "description_width": "",
            "_view_module": "@jupyter-widgets/base",
            "_model_module_version": "1.5.0",
            "_view_count": null,
            "_view_module_version": "1.2.0",
            "_model_module": "@jupyter-widgets/controls"
          }
        },
        "a812380480ec4245b56edc467c018e9c": {
          "model_module": "@jupyter-widgets/base",
          "model_name": "LayoutModel",
          "model_module_version": "1.2.0",
          "state": {
            "_view_name": "LayoutView",
            "grid_template_rows": null,
            "right": null,
            "justify_content": null,
            "_view_module": "@jupyter-widgets/base",
            "overflow": null,
            "_model_module_version": "1.2.0",
            "_view_count": null,
            "flex_flow": null,
            "width": null,
            "min_width": null,
            "border": null,
            "align_items": null,
            "bottom": null,
            "_model_module": "@jupyter-widgets/base",
            "top": null,
            "grid_column": null,
            "overflow_y": null,
            "overflow_x": null,
            "grid_auto_flow": null,
            "grid_area": null,
            "grid_template_columns": null,
            "flex": null,
            "_model_name": "LayoutModel",
            "justify_items": null,
            "grid_row": null,
            "max_height": null,
            "align_content": null,
            "visibility": null,
            "align_self": null,
            "height": null,
            "min_height": null,
            "padding": null,
            "grid_auto_rows": null,
            "grid_gap": null,
            "max_width": null,
            "order": null,
            "_view_module_version": "1.2.0",
            "grid_template_areas": null,
            "object_position": null,
            "object_fit": null,
            "grid_auto_columns": null,
            "margin": null,
            "display": null,
            "left": null
          }
        },
        "ba8d41e893454df7af9426e2c9081a0e": {
          "model_module": "@jupyter-widgets/controls",
          "model_name": "ProgressStyleModel",
          "model_module_version": "1.5.0",
          "state": {
            "_view_name": "StyleView",
            "_model_name": "ProgressStyleModel",
            "description_width": "",
            "_view_module": "@jupyter-widgets/base",
            "_model_module_version": "1.5.0",
            "_view_count": null,
            "_view_module_version": "1.2.0",
            "bar_color": null,
            "_model_module": "@jupyter-widgets/controls"
          }
        },
        "7325a78a64f44539b46fd57b865a138a": {
          "model_module": "@jupyter-widgets/base",
          "model_name": "LayoutModel",
          "model_module_version": "1.2.0",
          "state": {
            "_view_name": "LayoutView",
            "grid_template_rows": null,
            "right": null,
            "justify_content": null,
            "_view_module": "@jupyter-widgets/base",
            "overflow": null,
            "_model_module_version": "1.2.0",
            "_view_count": null,
            "flex_flow": null,
            "width": null,
            "min_width": null,
            "border": null,
            "align_items": null,
            "bottom": null,
            "_model_module": "@jupyter-widgets/base",
            "top": null,
            "grid_column": null,
            "overflow_y": null,
            "overflow_x": null,
            "grid_auto_flow": null,
            "grid_area": null,
            "grid_template_columns": null,
            "flex": null,
            "_model_name": "LayoutModel",
            "justify_items": null,
            "grid_row": null,
            "max_height": null,
            "align_content": null,
            "visibility": null,
            "align_self": null,
            "height": null,
            "min_height": null,
            "padding": null,
            "grid_auto_rows": null,
            "grid_gap": null,
            "max_width": null,
            "order": null,
            "_view_module_version": "1.2.0",
            "grid_template_areas": null,
            "object_position": null,
            "object_fit": null,
            "grid_auto_columns": null,
            "margin": null,
            "display": null,
            "left": null
          }
        },
        "e29b501a159d46db897db3ba552b1524": {
          "model_module": "@jupyter-widgets/controls",
          "model_name": "DescriptionStyleModel",
          "model_module_version": "1.5.0",
          "state": {
            "_view_name": "StyleView",
            "_model_name": "DescriptionStyleModel",
            "description_width": "",
            "_view_module": "@jupyter-widgets/base",
            "_model_module_version": "1.5.0",
            "_view_count": null,
            "_view_module_version": "1.2.0",
            "_model_module": "@jupyter-widgets/controls"
          }
        },
        "22c2285e54bc43d0ac1c2db4130e2e08": {
          "model_module": "@jupyter-widgets/base",
          "model_name": "LayoutModel",
          "model_module_version": "1.2.0",
          "state": {
            "_view_name": "LayoutView",
            "grid_template_rows": null,
            "right": null,
            "justify_content": null,
            "_view_module": "@jupyter-widgets/base",
            "overflow": null,
            "_model_module_version": "1.2.0",
            "_view_count": null,
            "flex_flow": null,
            "width": null,
            "min_width": null,
            "border": null,
            "align_items": null,
            "bottom": null,
            "_model_module": "@jupyter-widgets/base",
            "top": null,
            "grid_column": null,
            "overflow_y": null,
            "overflow_x": null,
            "grid_auto_flow": null,
            "grid_area": null,
            "grid_template_columns": null,
            "flex": null,
            "_model_name": "LayoutModel",
            "justify_items": null,
            "grid_row": null,
            "max_height": null,
            "align_content": null,
            "visibility": null,
            "align_self": null,
            "height": null,
            "min_height": null,
            "padding": null,
            "grid_auto_rows": null,
            "grid_gap": null,
            "max_width": null,
            "order": null,
            "_view_module_version": "1.2.0",
            "grid_template_areas": null,
            "object_position": null,
            "object_fit": null,
            "grid_auto_columns": null,
            "margin": null,
            "display": null,
            "left": null
          }
        }
      }
    }
  },
  "cells": [
    {
      "cell_type": "markdown",
      "metadata": {
        "id": "pKGF1ZLh8GXE"
      },
      "source": [
        "#Training a Neural Network in PyTorch#\n",
        "\n",
        "PyTorch is a powerful, widely-used machine learning library. It has all the latest neural network layers and functions and supports GPU computation.\n",
        "\n",
        "Most neural network research these days either happens in PyTorch or TensorFlow. Google Research develops TensorFlow while Facebook AI Research develops PyTorch. Functionally they are probably very similar, I just know a lot of people who use PyTorch and it seems like it might be somewhat easier for beginners to learn. It is important to have some experience in one of these two frameworks but if you understand the ideas and concepts you shouldn't have too much trouble moving between them.\n",
        "\n",
        "The `torch` library provides the basic functions we need when dealing with `tensors`. `tensors` are a generalization of matrices to arbirtrary numbers of dimensions (a matrix is a 2D tensor). Types of tensors:\n",
        "\n",
        "\n",
        "*   0 dimensional: Scalar\n",
        "*   1 dimensional: Array\n",
        "*   2 dimensional: Matrix\n",
        "*   3 dimensional: Number cubey thingy\n",
        "*   4 dimensional: ?????\n",
        "\n",
        "Anywho, let's start with our opening chant to invoke the power of PyTorch to aid us. The last line is a special call to the GPU gods to smile on our endeavor.\n"
      ]
    },
    {
      "cell_type": "code",
      "metadata": {
        "id": "ehrybK-XPJrr",
        "colab": {
          "base_uri": "https://localhost:8080/"
        },
        "outputId": "4e02d12f-46c7-425d-febe-43c0614d669c"
      },
      "source": [
        "import torch\n",
        "import torchvision\n",
        "import torchvision.transforms as transforms\n",
        "\n",
        "device = torch.device(\"cuda:0\" if torch.cuda.is_available() else \"cpu\")\n",
        "print(device)"
      ],
      "execution_count": 2,
      "outputs": [
        {
          "output_type": "stream",
          "name": "stdout",
          "text": [
            "cuda:0\n"
          ]
        }
      ]
    },
    {
      "cell_type": "markdown",
      "metadata": {
        "id": "T7rPSRhhBoQc"
      },
      "source": [
        "##Time For Some Data##\n",
        "\n",
        "PyTorch has some built tools for downloading and loading common datasets. We'll be playing around with MNIST in this example. It is a dataset of 28x28 grayscale handwritten digits 0-9. There are 50,000 images in the training set and 10,000 in the test set.\n",
        "\n"
      ]
    },
    {
      "cell_type": "code",
      "metadata": {
        "id": "iMUkulSBTNwo",
        "colab": {
          "base_uri": "https://localhost:8080/",
          "height": 505,
          "referenced_widgets": [
            "71624cee983b4f5ba6109cb58d065991",
            "eeb1ebc3bbf04f27ae4dff05c0f29060",
            "611acab2534c4ecd9b40e1102f56d6f2",
            "732a2699234247168b29e3b60ccdad7c",
            "5026a8eb39594e79ac96b44108a8e2e4",
            "54792439293d4b018267667574f480d0",
            "43a983f4389e4b32b61d68efbe230da9",
            "86574986a4bc4828a54804d6970a4bd4",
            "9e0733a61591461d84353859c76cab4c",
            "32d6b5d4d3ea435f80e7578897649205",
            "2763a81ece1a49a6b2e5eca2590660c8",
            "e1e52a82af3f40bb9dcc45ebbcffbfc9",
            "fbad8a82caf54dd2bb0d7a26dc558985",
            "a8e825ae153b43159b178a097cfdf014",
            "56ba0293af27418aaf0c46a34e5cedad",
            "3ed58f6fb5c64bd58681b3450c24c04d",
            "c6dd1e612bea4c5ca4af438af0d3c200",
            "d68e3989fcc24369bc6472cba56c501a",
            "57ad2ea6bd434ef4a89e29e8d3f34ef0",
            "10a4aa094a8743af92c2e100b6de324a",
            "12d21c55b1b54cdc9b7fe5006334cfb7",
            "1ad8f58ec63b4dc594d1f19a5894ef29",
            "c83b6aa580ab4aed88f4773fa92cfa76",
            "d304b017d01241baa4a4de4a5227506a",
            "76a43bfc67114eafa48a75b81367f308",
            "f6599a88a58947b5a05413fa54c1cda4",
            "456e1d37115d4a62ab16bf8a0d318309",
            "80bacec2d92f4cae8e27c01924a58205",
            "0b97c49f85ce4c5f845a20f2f42af8a8",
            "cadaa3e5660c4e329148c3f5e6638f32",
            "44983b6a33b946a3a88909966efb5fb5",
            "5dea5c9842654f70a27028c12d18ebaf",
            "50806719a860491c850d980fb975e2df",
            "4469440dd59b4801b7311597232ece3f",
            "144d641b74384856ab05cc9f843633c0",
            "81b2081e3cf949c095ea71ee62af4896",
            "aff57417e6da47e1876c7e7c7cf3e40a",
            "4c7c58d374e842b8ad59d62d37e0c65c",
            "1540a41b1d3b4ab7bf8053274c3ff63c",
            "a812380480ec4245b56edc467c018e9c",
            "ba8d41e893454df7af9426e2c9081a0e",
            "7325a78a64f44539b46fd57b865a138a",
            "e29b501a159d46db897db3ba552b1524",
            "22c2285e54bc43d0ac1c2db4130e2e08"
          ]
        },
        "outputId": "bdd4892f-d851-4128-99cf-cdef00ca87e3"
      },
      "source": [
        "def get_mnist_data():\n",
        "  trainset = torchvision.datasets.MNIST(root='./data', train=True, download=True,\n",
        "                                        transform=transforms.ToTensor())\n",
        "  trainloader = torch.utils.data.DataLoader(trainset, batch_size=32, shuffle=True,\n",
        "                                            num_workers=8)\n",
        "\n",
        "  testset = torchvision.datasets.MNIST(root='./data', train=False, download=True,\n",
        "                                      transform=transforms.ToTensor())\n",
        "  testloader = torch.utils.data.DataLoader(testset, batch_size=32, shuffle=False,\n",
        "                                          num_workers=8)\n",
        "  classes = range(10)\n",
        "  return {'train': trainloader, 'test': testloader, 'classes': classes}\n",
        "\n",
        "data = get_mnist_data()"
      ],
      "execution_count": 3,
      "outputs": [
        {
          "output_type": "stream",
          "name": "stdout",
          "text": [
            "Downloading http://yann.lecun.com/exdb/mnist/train-images-idx3-ubyte.gz\n",
            "Downloading http://yann.lecun.com/exdb/mnist/train-images-idx3-ubyte.gz to ./data/MNIST/raw/train-images-idx3-ubyte.gz\n"
          ]
        },
        {
          "output_type": "display_data",
          "data": {
            "application/vnd.jupyter.widget-view+json": {
              "model_id": "71624cee983b4f5ba6109cb58d065991",
              "version_minor": 0,
              "version_major": 2
            },
            "text/plain": [
              "  0%|          | 0/9912422 [00:00<?, ?it/s]"
            ]
          },
          "metadata": {}
        },
        {
          "output_type": "stream",
          "name": "stdout",
          "text": [
            "Extracting ./data/MNIST/raw/train-images-idx3-ubyte.gz to ./data/MNIST/raw\n",
            "\n",
            "Downloading http://yann.lecun.com/exdb/mnist/train-labels-idx1-ubyte.gz\n",
            "Downloading http://yann.lecun.com/exdb/mnist/train-labels-idx1-ubyte.gz to ./data/MNIST/raw/train-labels-idx1-ubyte.gz\n"
          ]
        },
        {
          "output_type": "display_data",
          "data": {
            "application/vnd.jupyter.widget-view+json": {
              "model_id": "e1e52a82af3f40bb9dcc45ebbcffbfc9",
              "version_minor": 0,
              "version_major": 2
            },
            "text/plain": [
              "  0%|          | 0/28881 [00:00<?, ?it/s]"
            ]
          },
          "metadata": {}
        },
        {
          "output_type": "stream",
          "name": "stdout",
          "text": [
            "Extracting ./data/MNIST/raw/train-labels-idx1-ubyte.gz to ./data/MNIST/raw\n",
            "\n",
            "Downloading http://yann.lecun.com/exdb/mnist/t10k-images-idx3-ubyte.gz\n",
            "Downloading http://yann.lecun.com/exdb/mnist/t10k-images-idx3-ubyte.gz to ./data/MNIST/raw/t10k-images-idx3-ubyte.gz\n"
          ]
        },
        {
          "output_type": "display_data",
          "data": {
            "application/vnd.jupyter.widget-view+json": {
              "model_id": "c83b6aa580ab4aed88f4773fa92cfa76",
              "version_minor": 0,
              "version_major": 2
            },
            "text/plain": [
              "  0%|          | 0/1648877 [00:00<?, ?it/s]"
            ]
          },
          "metadata": {}
        },
        {
          "output_type": "stream",
          "name": "stdout",
          "text": [
            "Extracting ./data/MNIST/raw/t10k-images-idx3-ubyte.gz to ./data/MNIST/raw\n",
            "\n",
            "Downloading http://yann.lecun.com/exdb/mnist/t10k-labels-idx1-ubyte.gz\n",
            "Downloading http://yann.lecun.com/exdb/mnist/t10k-labels-idx1-ubyte.gz to ./data/MNIST/raw/t10k-labels-idx1-ubyte.gz\n"
          ]
        },
        {
          "output_type": "display_data",
          "data": {
            "application/vnd.jupyter.widget-view+json": {
              "model_id": "4469440dd59b4801b7311597232ece3f",
              "version_minor": 0,
              "version_major": 2
            },
            "text/plain": [
              "  0%|          | 0/4542 [00:00<?, ?it/s]"
            ]
          },
          "metadata": {}
        },
        {
          "output_type": "stream",
          "name": "stdout",
          "text": [
            "Extracting ./data/MNIST/raw/t10k-labels-idx1-ubyte.gz to ./data/MNIST/raw\n",
            "\n"
          ]
        },
        {
          "output_type": "stream",
          "name": "stderr",
          "text": [
            "/usr/local/lib/python3.7/dist-packages/torchvision/datasets/mnist.py:498: UserWarning: The given NumPy array is not writeable, and PyTorch does not support non-writeable tensors. This means you can write to the underlying (supposedly non-writeable) NumPy array using the tensor. You may want to copy the array to protect its data or make it writeable before converting it to a tensor. This type of warning will be suppressed for the rest of this program. (Triggered internally at  /pytorch/torch/csrc/utils/tensor_numpy.cpp:180.)\n",
            "  return torch.from_numpy(parsed.astype(m[2], copy=False)).view(*s)\n",
            "/usr/local/lib/python3.7/dist-packages/torch/utils/data/dataloader.py:481: UserWarning: This DataLoader will create 8 worker processes in total. Our suggested max number of worker in current system is 2, which is smaller than what this DataLoader is going to create. Please be aware that excessive worker creation might get DataLoader running slow or even freeze, lower the worker number to avoid potential slowness/freeze if necessary.\n",
            "  cpuset_checked))\n"
          ]
        }
      ]
    },
    {
      "cell_type": "markdown",
      "metadata": {
        "id": "xI_PZ2Pus5cF"
      },
      "source": [
        "###Understanding Our Data ###\n",
        "It's worthwhile to check out how our dataloader loads the images into tensors. We can print out the size of the loaded data in the `images` tensors.\n",
        "\n"
      ]
    },
    {
      "cell_type": "code",
      "metadata": {
        "id": "P1HO7vN-T5P4",
        "colab": {
          "base_uri": "https://localhost:8080/"
        },
        "outputId": "669ac958-6202-46ef-8990-bca769c1e278"
      },
      "source": [
        "# get some random training images\n",
        "dataiter = iter(data['train'])\n",
        "images, labels = dataiter.next()\n",
        "print(images.size())"
      ],
      "execution_count": 4,
      "outputs": [
        {
          "output_type": "stream",
          "name": "stderr",
          "text": [
            "/usr/local/lib/python3.7/dist-packages/torch/utils/data/dataloader.py:481: UserWarning: This DataLoader will create 8 worker processes in total. Our suggested max number of worker in current system is 2, which is smaller than what this DataLoader is going to create. Please be aware that excessive worker creation might get DataLoader running slow or even freeze, lower the worker number to avoid potential slowness/freeze if necessary.\n",
            "  cpuset_checked))\n"
          ]
        },
        {
          "output_type": "stream",
          "name": "stdout",
          "text": [
            "torch.Size([32, 1, 28, 28])\n"
          ]
        }
      ]
    },
    {
      "cell_type": "markdown",
      "metadata": {
        "id": "C2h61JjW7rh1"
      },
      "source": [
        "Our `images` tensor is 4-dimensional, (32 x 1 x 28 x 28)\n",
        "\n",
        "PyTorch stores image data in (N x C x H x W) format. Thus the size of this tensor implies we have a mini-batch of 32 images, each have a single channel (grayscale), and each image is 28 x 28, so that makes sense!\n",
        "\n",
        "We can use matplotlib to see what our data looks like:"
      ]
    },
    {
      "cell_type": "code",
      "metadata": {
        "id": "E42h6plq63Ar",
        "colab": {
          "base_uri": "https://localhost:8080/",
          "height": 237
        },
        "outputId": "62510daf-a585-4bb7-e3b6-6d447844afc4"
      },
      "source": [
        "import matplotlib.pyplot as plt\n",
        "import numpy as np\n",
        "\n",
        "def imshow(img):\n",
        "    npimg = img.numpy()\n",
        "    plt.imshow(np.transpose(npimg, (1, 2, 0)))\n",
        "    plt.show()\n",
        "\n",
        "# show images\n",
        "imshow(torchvision.utils.make_grid(images))\n",
        "# print labels\n",
        "print(' '.join('%9s' % data['classes'][labels[j]] for j in range(4)))\n"
      ],
      "execution_count": 5,
      "outputs": [
        {
          "output_type": "display_data",
          "data": {
            "image/png": "[encoded data removed]",
            "text/plain": [
              "<Figure size 432x288 with 1 Axes>"
            ]
          },
          "metadata": {
            "needs_background": "light"
          }
        },
        {
          "output_type": "stream",
          "name": "stdout",
          "text": [
            "        3         7         2         0\n"
          ]
        }
      ]
    },
    {
      "cell_type": "markdown",
      "metadata": {
        "id": "0z2Zs4W74Rcv"
      },
      "source": [
        "##A Simple Network##\n",
        "\n",
        "First we'll build a very basic neural network with a single hidden layer of neurons. This means one fully connected layer of weights connects the input to the hidden neurons and one fully connected layer connects the hidden neurons to the output. We'll use the RELU activation function on the hidden neuron values as our nonlinearity.\n",
        "\n",
        "These fully connected (or `nn.Linear`) layers expect a 2D input tensor where that is N x I where N is the number of data points in a mini batch and I is the number of inputs. However, our data is formatted in (N x C x H x W) right now so we need to tell PyTorch to rearrange it using `torch.flatten`.\n",
        "\n",
        "After being `flatten`ed our data goes from (32 x 1 x 28 x 28) to being (32 x 784)"
      ]
    },
    {
      "cell_type": "code",
      "metadata": {
        "id": "RfglkbNyVLQY"
      },
      "source": [
        "import torch.nn as nn\n",
        "import torch.nn.functional as F\n",
        "\n",
        "\n",
        "class SimpleNet(nn.Module):\n",
        "    def __init__(self, inputs=28*28, hidden=512, outputs=10):\n",
        "        super(SimpleNet, self).__init__()\n",
        "        self.fc1 = nn.Linear(inputs, hidden)\n",
        "        self.fc2 = nn.Linear(hidden, outputs)\n",
        "\n",
        "    def forward(self, x):\n",
        "        x = torch.flatten(x, 1)\n",
        "        x = self.fc1(x)\n",
        "        x = F.relu(x)\n",
        "        x = self.fc2(x)\n",
        "        return x"
      ],
      "execution_count": 6,
      "outputs": []
    },
    {
      "cell_type": "markdown",
      "metadata": {
        "id": "cBv5uxRHrdH_"
      },
      "source": [
        "###The Training Function ###\n",
        "\n",
        "Now for training our network. Our `train` function takes as input the `net` to train and the `dataloader` for the training data. It also takes some optional parameters to control training.\n",
        "\n",
        "For our network we'll be using PyTorch's built in `nn.CrossEntropyLoss`. This will apply a softmax to our network's output, calculate the log-probability assigned to each class, then try to minimize the negative log likelihood of our data (AKA maximize the likelihood)\n",
        "\n",
        "For our optimizer we are using stochastic gradient descent with learning rate, momentum, and decay parameters."
      ]
    },
    {
      "cell_type": "code",
      "metadata": {
        "id": "XrzP3OzSWLnV"
      },
      "source": [
        "import torch.optim as optim\n",
        "\n",
        "def train(net, dataloader, epochs=1, lr=0.01, momentum=0.9, decay=0.0, verbose=1):\n",
        "  net.to(device)\n",
        "  losses = []\n",
        "  criterion = nn.CrossEntropyLoss()\n",
        "  optimizer = optim.SGD(net.parameters(), lr=lr, momentum=momentum, weight_decay=decay)\n",
        "  for epoch in range(epochs):\n",
        "    sum_loss = 0.0\n",
        "    for i, batch in enumerate(dataloader, 0):\n",
        "        # get the inputs; data is a list of [inputs, labels]\n",
        "        inputs, labels = batch[0].to(device), batch[1].to(device)\n",
        "\n",
        "        # zero the parameter gradients\n",
        "        optimizer.zero_grad()\n",
        "\n",
        "        # forward + backward + optimize \n",
        "        outputs = net(inputs)\n",
        "        loss = criterion(outputs, labels)\n",
        "        loss.backward()\n",
        "        optimizer.step()\n",
        "\n",
        "        # print statistics\n",
        "        losses.append(loss.item())\n",
        "        sum_loss += loss.item()\n",
        "        if i % 100 == 99:    # print every 100 mini-batches\n",
        "            if verbose:\n",
        "              print('[%d, %5d] loss: %.3f' %\n",
        "                  (epoch + 1, i + 1, sum_loss / 100))\n",
        "            sum_loss = 0.0\n",
        "  return losses"
      ],
      "execution_count": 7,
      "outputs": []
    },
    {
      "cell_type": "markdown",
      "metadata": {
        "id": "7PQs_ofgwmCt"
      },
      "source": [
        "###Training The Network###\n",
        "\n",
        "We'll instantiate a new network and train it on our training data.\n",
        "\n",
        "Our training function prints out some debug information about the epoch, batch number, and current loss values. It also returns a list of all the losses on our mini-batches so we can plot them all once training has finished."
      ]
    },
    {
      "cell_type": "code",
      "metadata": {
        "id": "ZnniOt6IsJjo",
        "colab": {
          "base_uri": "https://localhost:8080/",
          "height": 642
        },
        "outputId": "0a7d1a63-5329-4ad6-f227-d19ff51a98f3"
      },
      "source": [
        "net = SimpleNet()\n",
        "\n",
        "losses = train(net, data['train'])\n",
        "plt.plot(losses)"
      ],
      "execution_count": 8,
      "outputs": [
        {
          "output_type": "stream",
          "name": "stderr",
          "text": [
            "/usr/local/lib/python3.7/dist-packages/torch/utils/data/dataloader.py:481: UserWarning: This DataLoader will create 8 worker processes in total. Our suggested max number of worker in current system is 2, which is smaller than what this DataLoader is going to create. Please be aware that excessive worker creation might get DataLoader running slow or even freeze, lower the worker number to avoid potential slowness/freeze if necessary.\n",
            "  cpuset_checked))\n"
          ]
        },
        {
          "output_type": "stream",
          "name": "stdout",
          "text": [
            "[1,   100] loss: 1.359\n",
            "[1,   200] loss: 0.503\n",
            "[1,   300] loss: 0.428\n",
            "[1,   400] loss: 0.374\n",
            "[1,   500] loss: 0.344\n",
            "[1,   600] loss: 0.322\n",
            "[1,   700] loss: 0.296\n",
            "[1,   800] loss: 0.293\n",
            "[1,   900] loss: 0.277\n",
            "[1,  1000] loss: 0.284\n",
            "[1,  1100] loss: 0.257\n",
            "[1,  1200] loss: 0.239\n",
            "[1,  1300] loss: 0.231\n",
            "[1,  1400] loss: 0.229\n",
            "[1,  1500] loss: 0.219\n",
            "[1,  1600] loss: 0.220\n",
            "[1,  1700] loss: 0.198\n",
            "[1,  1800] loss: 0.191\n"
          ]
        },
        {
          "output_type": "execute_result",
          "data": {
            "text/plain": [
              "[<matplotlib.lines.Line2D at 0x7fbff5355610>]"
            ]
          },
          "metadata": {},
          "execution_count": 8
        },
        {
          "output_type": "display_data",
          "data": {
            "image/png": "[encoded data removed]",
            "text/plain": [
              "<Figure size 432x288 with 1 Axes>"
            ]
          },
          "metadata": {
            "needs_background": "light"
          }
        }
      ]
    },
    {
      "cell_type": "markdown",
      "metadata": {
        "id": "AbQR1GAlzqQt"
      },
      "source": [
        "##Testing The Network##\n",
        "\n",
        "We trained our network! The loss went down! That's good, right? But how good is our network, exactly?\n",
        "\n",
        "Well, we can try running our network on a few of our test images and see what happens:"
      ]
    },
    {
      "cell_type": "code",
      "metadata": {
        "id": "jRnA3phakd4j",
        "colab": {
          "base_uri": "https://localhost:8080/",
          "height": 226
        },
        "outputId": "b59a901d-993c-41d8-f7b0-eb0a8c780386"
      },
      "source": [
        "dataiter = iter(data['test'])\n",
        "images, labels = dataiter.next()\n",
        "images = images[:4]\n",
        "labels = labels[:4]\n",
        "\n",
        "# print images\n",
        "imshow(torchvision.utils.make_grid(images))\n",
        "print('GroundTruth: ', ' '.join('%5s' % data['classes'][labels[j]] for j in range(4)))\n",
        "outputs = net(images.to(device))\n",
        "_, predicted = torch.max(outputs, 1)\n",
        "\n",
        "print('Predicted: ', ' '.join('%5s' % data['classes'][predicted[j]]\n",
        "                              for j in range(4)))"
      ],
      "execution_count": 9,
      "outputs": [
        {
          "output_type": "stream",
          "name": "stderr",
          "text": [
            "/usr/local/lib/python3.7/dist-packages/torch/utils/data/dataloader.py:481: UserWarning: This DataLoader will create 8 worker processes in total. Our suggested max number of worker in current system is 2, which is smaller than what this DataLoader is going to create. Please be aware that excessive worker creation might get DataLoader running slow or even freeze, lower the worker number to avoid potential slowness/freeze if necessary.\n",
            "  cpuset_checked))\n"
          ]
        },
        {
          "output_type": "display_data",
          "data": {
            "image/png": "[encoded data removed]",
            "text/plain": [
              "<Figure size 432x288 with 1 Axes>"
            ]
          },
          "metadata": {
            "needs_background": "light"
          }
        },
        {
          "output_type": "stream",
          "name": "stdout",
          "text": [
            "GroundTruth:      7     2     1     0\n",
            "Predicted:      7     2     1     0\n"
          ]
        }
      ]
    },
    {
      "cell_type": "markdown",
      "metadata": {
        "id": "UvR8TTs-z8Cc"
      },
      "source": [
        "Pretty good so far. But we also want to be able to test the network on all of our data. Here's a function that can do just that, computing the accuracy on a full set of data:"
      ]
    },
    {
      "cell_type": "code",
      "metadata": {
        "id": "7TNFVUA3mpJr"
      },
      "source": [
        "def accuracy(net, dataloader):\n",
        "  correct = 0\n",
        "  total = 0\n",
        "  with torch.no_grad():\n",
        "      for batch in dataloader:\n",
        "          images, labels = batch[0].to(device), batch[1].to(device)\n",
        "          outputs = net(images)\n",
        "          _, predicted = torch.max(outputs.data, 1)\n",
        "          total += labels.size(0)\n",
        "          correct += (predicted == labels).sum().item()\n",
        "  return correct/total"
      ],
      "execution_count": 8,
      "outputs": []
    },
    {
      "cell_type": "markdown",
      "metadata": {
        "id": "_usQ2gGR01j0"
      },
      "source": [
        "Now we can give it a try:"
      ]
    },
    {
      "cell_type": "code",
      "metadata": {
        "id": "MEl-HH83020a",
        "colab": {
          "base_uri": "https://localhost:8080/"
        },
        "outputId": "34fd376b-8b54-494f-f42d-d0564d48cec0"
      },
      "source": [
        "print(\"Current accuracy: %f\" % accuracy(net, data['train']))"
      ],
      "execution_count": 11,
      "outputs": [
        {
          "output_type": "stream",
          "name": "stderr",
          "text": [
            "/usr/local/lib/python3.7/dist-packages/torch/utils/data/dataloader.py:481: UserWarning: This DataLoader will create 8 worker processes in total. Our suggested max number of worker in current system is 2, which is smaller than what this DataLoader is going to create. Please be aware that excessive worker creation might get DataLoader running slow or even freeze, lower the worker number to avoid potential slowness/freeze if necessary.\n",
            "  cpuset_checked))\n"
          ]
        },
        {
          "output_type": "stream",
          "name": "stdout",
          "text": [
            "Current accuracy: 0.946517\n"
          ]
        }
      ]
    },
    {
      "cell_type": "markdown",
      "metadata": {
        "id": "3gIXV-es1T7C"
      },
      "source": [
        "##Experiments##\n",
        "\n",
        "Now it's time to poke around a little bit with our models. First I just want this utility function to do window smoothing of data for us. As you may have noticed, we are doing *stochastic* gradient descent, so our losses for each mini-batch can vary quite dramatically. If we smooth them out a little bit they will be easier to look at when we plot them."
      ]
    },
    {
      "cell_type": "code",
      "metadata": {
        "id": "Zq0AprMN30cS"
      },
      "source": [
        "def smooth(x, size):\n",
        "  return np.convolve(x, np.ones(size)/size, mode='same')"
      ],
      "execution_count": 9,
      "outputs": []
    },
    {
      "cell_type": "markdown",
      "metadata": {
        "id": "TdHueTHS7ClZ"
      },
      "source": [
        "###Learning Rate###\n",
        "\n",
        "Let's experiment around with the learning rate of our model. Changing the learning rate should affect how fast our model converges and how accurate it is. We can see the effect when we plot out the loss function over time for models with different learning rates:"
      ]
    },
    {
      "cell_type": "code",
      "metadata": {
        "id": "lC3gB5j61j2Z",
        "colab": {
          "base_uri": "https://localhost:8080/",
          "height": 404
        },
        "outputId": "57559bce-dd7d-4c67-d7d9-ccc8b8071a53"
      },
      "source": [
        "net_high = SimpleNet()\n",
        "losses_high = train(net_high, data['train'], lr=.1, verbose=0)\n",
        "acc_high = accuracy(net_high, data['test'])\n",
        "plt.plot(smooth(losses_high,20), 'r-')\n",
        "\n",
        "\n",
        "net_mid = SimpleNet()\n",
        "losses_mid = train(net_mid, data['train'], lr=.01, verbose=0)\n",
        "acc_mid = accuracy(net_mid, data['test'])\n",
        "plt.plot(smooth(losses_mid,20), 'b-')\n",
        "\n",
        "\n",
        "net_low = SimpleNet()\n",
        "losses_low = train(net_low, data['train'], lr=.001, verbose=0)\n",
        "acc_low = accuracy(net_low, data['test'])\n",
        "plt.plot(smooth(losses_low,20), 'g-')\n",
        "\n",
        "print(acc_high, acc_mid, acc_low)"
      ],
      "execution_count": 39,
      "outputs": [
        {
          "output_type": "stream",
          "name": "stderr",
          "text": [
            "/usr/local/lib/python3.7/dist-packages/torch/utils/data/dataloader.py:481: UserWarning: This DataLoader will create 8 worker processes in total. Our suggested max number of worker in current system is 2, which is smaller than what this DataLoader is going to create. Please be aware that excessive worker creation might get DataLoader running slow or even freeze, lower the worker number to avoid potential slowness/freeze if necessary.\n",
            "  cpuset_checked))\n",
            "/usr/local/lib/python3.7/dist-packages/torch/utils/data/dataloader.py:481: UserWarning: This DataLoader will create 8 worker processes in total. Our suggested max number of worker in current system is 2, which is smaller than what this DataLoader is going to create. Please be aware that excessive worker creation might get DataLoader running slow or even freeze, lower the worker number to avoid potential slowness/freeze if necessary.\n",
            "  cpuset_checked))\n",
            "/usr/local/lib/python3.7/dist-packages/torch/utils/data/dataloader.py:481: UserWarning: This DataLoader will create 8 worker processes in total. Our suggested max number of worker in current system is 2, which is smaller than what this DataLoader is going to create. Please be aware that excessive worker creation might get DataLoader running slow or even freeze, lower the worker number to avoid potential slowness/freeze if necessary.\n",
            "  cpuset_checked))\n"
          ]
        },
        {
          "output_type": "stream",
          "name": "stdout",
          "text": [
            "0.9576 0.9501 0.8935\n"
          ]
        },
        {
          "output_type": "display_data",
          "data": {
            "image/png": "[encoded data removed]",
            "text/plain": [
              "<Figure size 432x288 with 1 Axes>"
            ]
          },
          "metadata": {
            "needs_background": "light"
          }
        }
      ]
    },
    {
      "cell_type": "markdown",
      "metadata": {
        "id": "-aM_X31X7gxf"
      },
      "source": [
        "###Momentum###\n",
        "\n",
        "We are using the default value for momentum of `0.9`. Fix your value for the learning rate and try varying the values for momentum.\n",
        "\n",
        "####**Question 1: What affect does changing the value for momentum have on your model's convergence and final accuracy?**####\n",
        "\n",
        "Adding momentum is for the acceleration of the model's convergence. According to the plot of losses on different momentum values, using `m = 0.9, 0.8, 0.5` converges faster than using `m = 0.1`. This is reasonable because when `m` approaching to 0, the losses graph becomes similar to the original losses graph without momentum above. The accuracy doesn't differ a lot when using 0.9, 0.8, 0.5 and 0.1 for the momentum. It is about 95% and 96% of accuracy. However, when I tried 0.95 for the momentum, the accuracy decreased to about 87% or 88%. "
      ]
    },
    {
      "cell_type": "code",
      "metadata": {
        "id": "X5rsSpoP78KM",
        "colab": {
          "base_uri": "https://localhost:8080/",
          "height": 404
        },
        "outputId": "eda0fe55-446d-49ad-c8ec-75c1fd1e804b"
      },
      "source": [
        "#TODO: Write your code here for experimenting with different values of momentum.\n",
        "net_1 = SimpleNet()\n",
        "losses_1 = train(net_1, data['train'], lr=.1, momentum=.95, verbose=0)\n",
        "acc_1 = accuracy(net_1, data['test'])\n",
        "\n",
        "net_2 = SimpleNet()\n",
        "losses_2 = train(net_2, data['train'], lr=.1, momentum=.9, verbose=0)\n",
        "acc_2 = accuracy(net_2, data['test'])\n",
        "\n",
        "net_3 = SimpleNet()\n",
        "losses_3 = train(net_3, data['train'], lr=.1, momentum=.8, verbose=0)\n",
        "acc_3 = accuracy(net_3, data['test'])\n",
        "\n",
        "net_4 = SimpleNet()\n",
        "losses_4 = train(net_4, data['train'], lr=.1, momentum=.5, verbose=0)\n",
        "acc_4 = accuracy(net_4, data['test'])\n",
        "\n",
        "net_5 = SimpleNet()\n",
        "losses_5 = train(net_5, data['train'], lr=.1, momentum=.1, verbose=0)\n",
        "acc_5 = accuracy(net_5, data['test'])\n",
        "plt.plot(smooth(losses_1,20), 'r', label='m=0.95')\n",
        "plt.plot(smooth(losses_2,20), 'g', label='m=0.9')\n",
        "plt.plot(smooth(losses_3,20), 'b', label='m=0.8')\n",
        "plt.plot(smooth(losses_4,20), 'k', label='m=0.5')\n",
        "plt.plot(smooth(losses_5,20), 'c', label='m=0.1')\n",
        "plt.legend()\n",
        "print(\"acc1 = \", acc_1)\n",
        "print(\"acc2 = \", acc_2)\n",
        "print(\"acc3 = \", acc_3)\n",
        "print(\"acc4 = \", acc_4)\n",
        "print(\"acc5 = \", acc_5)"
      ],
      "execution_count": 14,
      "outputs": [
        {
          "output_type": "stream",
          "name": "stderr",
          "text": [
            "/usr/local/lib/python3.7/dist-packages/torch/utils/data/dataloader.py:481: UserWarning: This DataLoader will create 8 worker processes in total. Our suggested max number of worker in current system is 2, which is smaller than what this DataLoader is going to create. Please be aware that excessive worker creation might get DataLoader running slow or even freeze, lower the worker number to avoid potential slowness/freeze if necessary.\n",
            "  cpuset_checked))\n"
          ]
        },
        {
          "output_type": "stream",
          "name": "stdout",
          "text": [
            "acc1 =  0.8774\n",
            "acc2 =  0.9552\n",
            "acc3 =  0.969\n",
            "acc4 =  0.9631\n",
            "acc5 =  0.9531\n"
          ]
        },
        {
          "output_type": "display_data",
          "data": {
            "image/png": "[encoded data removed]",
            "text/plain": [
              "<Figure size 432x288 with 1 Axes>"
            ]
          },
          "metadata": {
            "needs_background": "light"
          }
        }
      ]
    },
    {
      "cell_type": "markdown",
      "metadata": {
        "id": "weTQgPBE8GC-"
      },
      "source": [
        "###Weight Decay###\n",
        "\n",
        "Right now we aren't using any weight decay with our model. However, it can be useful as a method of regularization if we are worried about overfitting.\n",
        "\n",
        "Take your best performing model parameters from above for learning rate and momentum. Fix these parameters as you answer the following questions:\n",
        "\n",
        "####**Question 2: Is our current model overfit or underfit to our training data? How can you tell?**####\n",
        "\n",
        "I tried `lr = 0.1` and `momentum = 0.8`, which ended to be the highest testing accuracy above. I think this model is a little bit overfitting because training accuracy is a little higher than the testing accuracy. Overall, I don't think this model is overfitting.\n",
        "\n",
        "####**Question 3: Try out some different values for weight decay. What effect do they have on model convergence? What about final accuracy? Does this match with what you would have expected? Why or why not?**####\n",
        "\n",
        "The convergence doesn't change a lot when trying differnt lambda values. This is reasonable because momentum contributes more to the speed of the convergence.\n",
        "According the weight decay values I experimented below, I found that the training accuracy and the testing accuracy is closet when `lambda = 1e-5` , though the accuracies are not as high as using lower lambda values. The certain thing is that, using larger weight decay may decrease the accuracy of the model. This result is expected because when usig larger weight decay, the model can generalize too much, which may cause underfitting that results in lower accuracy."
      ]
    },
    {
      "cell_type": "code",
      "metadata": {
        "id": "Jywu7uy0aLa8",
        "colab": {
          "base_uri": "https://localhost:8080/",
          "height": 744
        },
        "outputId": "f37dc1d0-875d-4f02-e96c-23832cc0dbd7"
      },
      "source": [
        "#TODO: Write your code here for experimenting with different weight decay\n",
        "net_q2 = SimpleNet()\n",
        "losses_q2 = train(net_q2, data['train'], lr=.1, momentum=0.8, verbose=0)\n",
        "acc_q2_train = accuracy(net_q2, data['train'])\n",
        "acc_q2_test = accuracy(net_q2, data['test'])\n",
        "print(\"train acc = \", acc_q2_train)\n",
        "print(\"test acc = \", acc_q2_test)\n",
        "\n",
        "decays = [1e-6, 1e-5, 0.001, 0.01]\n",
        "train_acc_arr = [acc_q2_train]\n",
        "test_acc_arr = [acc_q2_test]\n",
        "for lam in decays:\n",
        "  net_q3 = SimpleNet()\n",
        "  losses_q3 = train(net_q3, data['train'], lr=.1, momentum=0.8, decay=lam, verbose=0)\n",
        "  acc_q3_train = accuracy(net_q3, data['train'])\n",
        "  acc_q3_test = accuracy(net_q3, data['test'])\n",
        "  train_acc_arr.append(acc_q3_train)\n",
        "  test_acc_arr.append(acc_q3_test)\n",
        "  print(\"-------------------\")\n",
        "  print(\"lambda = \", lam)\n",
        "  print(\"train acc = \", acc_q3_train)\n",
        "  print(\"test acc = \", acc_q3_test)\n",
        "  plt.plot(smooth(losses_q3, 50), label=lam)\n",
        "\n",
        "# plt.plot(train_acc_arr, 'ro-', label='train acc')\n",
        "# plt.plot(test_acc_arr, 'go-', label='test acc')\n",
        "plt.legend()"
      ],
      "execution_count": 17,
      "outputs": [
        {
          "output_type": "stream",
          "name": "stderr",
          "text": [
            "/usr/local/lib/python3.7/dist-packages/torch/utils/data/dataloader.py:481: UserWarning: This DataLoader will create 8 worker processes in total. Our suggested max number of worker in current system is 2, which is smaller than what this DataLoader is going to create. Please be aware that excessive worker creation might get DataLoader running slow or even freeze, lower the worker number to avoid potential slowness/freeze if necessary.\n",
            "  cpuset_checked))\n"
          ]
        },
        {
          "output_type": "stream",
          "name": "stdout",
          "text": [
            "train acc =  0.9753\n",
            "test acc =  0.9686\n",
            "-------------------\n",
            "lambda =  1e-06\n",
            "train acc =  0.9734333333333334\n",
            "test acc =  0.9681\n"
          ]
        },
        {
          "output_type": "stream",
          "name": "stderr",
          "text": [
            "/usr/local/lib/python3.7/dist-packages/torch/utils/data/dataloader.py:481: UserWarning: This DataLoader will create 8 worker processes in total. Our suggested max number of worker in current system is 2, which is smaller than what this DataLoader is going to create. Please be aware that excessive worker creation might get DataLoader running slow or even freeze, lower the worker number to avoid potential slowness/freeze if necessary.\n",
            "  cpuset_checked))\n"
          ]
        },
        {
          "output_type": "stream",
          "name": "stdout",
          "text": [
            "-------------------\n",
            "lambda =  1e-05\n",
            "train acc =  0.9644666666666667\n",
            "test acc =  0.9622\n"
          ]
        },
        {
          "output_type": "stream",
          "name": "stderr",
          "text": [
            "/usr/local/lib/python3.7/dist-packages/torch/utils/data/dataloader.py:481: UserWarning: This DataLoader will create 8 worker processes in total. Our suggested max number of worker in current system is 2, which is smaller than what this DataLoader is going to create. Please be aware that excessive worker creation might get DataLoader running slow or even freeze, lower the worker number to avoid potential slowness/freeze if necessary.\n",
            "  cpuset_checked))\n"
          ]
        },
        {
          "output_type": "stream",
          "name": "stdout",
          "text": [
            "-------------------\n",
            "lambda =  0.001\n",
            "train acc =  0.9690833333333333\n",
            "test acc =  0.9622\n"
          ]
        },
        {
          "output_type": "stream",
          "name": "stderr",
          "text": [
            "/usr/local/lib/python3.7/dist-packages/torch/utils/data/dataloader.py:481: UserWarning: This DataLoader will create 8 worker processes in total. Our suggested max number of worker in current system is 2, which is smaller than what this DataLoader is going to create. Please be aware that excessive worker creation might get DataLoader running slow or even freeze, lower the worker number to avoid potential slowness/freeze if necessary.\n",
            "  cpuset_checked))\n"
          ]
        },
        {
          "output_type": "stream",
          "name": "stdout",
          "text": [
            "-------------------\n",
            "lambda =  0.01\n",
            "train acc =  0.9144166666666667\n",
            "test acc =  0.9196\n"
          ]
        },
        {
          "output_type": "execute_result",
          "data": {
            "text/plain": [
              "<matplotlib.legend.Legend at 0x7f53a5841f90>"
            ]
          },
          "metadata": {},
          "execution_count": 17
        },
        {
          "output_type": "display_data",
          "data": {
            "image/png": "[encoded data removed]",
            "text/plain": [
              "<Figure size 432x288 with 1 Axes>"
            ]
          },
          "metadata": {
            "needs_background": "light"
          }
        }
      ]
    },
    {
      "cell_type": "markdown",
      "metadata": {
        "id": "mKmBp4tMaYro"
      },
      "source": [
        "###A Bigger Model###\n",
        "\n",
        "Before we used a very simple model but now it's time to try adding some complexity. Create a network that takes as input the 28x28 image, 10 outputs, and any number of layers as long as it has fewer than 2,000,000 connections. Our simple network before had 784\\*512 + 512\\*10 = 406,528 connections.\n",
        "\n",
        "Use only fully connected (`nn.Linear`) layers (we'll get to other layer types soon). However, play around with different [activation functions](https://pytorch.org/docs/stable/nn.functional.html#non-linear-activation-functions), [losses](https://pytorch.org/docs/stable/nn.html#loss-functions), and hyperparameter settings. You can also try different training regimes. For example, you could try lowering the learning rate during training by calling our training method twice like this:\n",
        "\n",
        "    train(net, data['train'], epochs=5, lr=.1)\n",
        "    train(net, data['train'], epochs=3, lr=.01)\n",
        "    train(net, data['train'], epochs=2, lr=.001)\n",
        "\n",
        "Maybe it works better? Why did I choose those particular numbers? Who knows! It's deep learning, no one really knows what will work you have to just try things and see.\n",
        "\n",
        "Experiment with different network architectures and settings to get the most accurate model.\n",
        "\n",
        "####**Question 4: Describe your final model architecture. How did you come up with the number of layers and number of neurons at each layer?**####\n",
        "\n",
        "Originally, I tried 2 hidden layers with 128 neurons for the first hidden layer and 64 neurons for the second one. Both of them using relu as the activation functions and using log softmax for the final layer because this is a classification model. After the trianing using `epochs = 5, lr = 0.01, m = 0.9`, I got about 98% traning accuracy and 97% testing accuracy. \n",
        "In order to increase the accuracy, I modified my original nn structure to be 3 hidden layers with 256 neurons for the first hidden layer, 128 for the second one, and 64 for the third one. The number of neurons is just divided by 2 each layer, no any specific reasons. As a result, this new model did improve the training accuracy a little bit (99%), but the testing accuracy is still about 97%.\n",
        "\n",
        "I increased the number of layers because the model can learn different features in the intermediate layers.\n",
        "\n",
        "####**Question 5: What hyperparameters did you experiment with? What values were good for them? Do you think your model was over or under fitting the data?**####\n",
        "\n",
        "Using the new model described in Q4, I tried the combinations of 2 learing rate vlaues and 2 momentum vlaues. The best result turns out to be the training model with `lr = 0.01` and `m = 0.9`. This model has 98.99% training accuracy and 97.75% testing accuracy. The training accuracy is a bit higher than the testing accuracy, which seems a bit overfitting, but I think it is not a big problem."
      ]
    },
    {
      "cell_type": "code",
      "metadata": {
        "id": "J0yynxFmd0ss"
      },
      "source": [
        "#TODO: Write your new model and experiments here\n",
        "import torch.nn as nn\n",
        "import torch.nn.functional as F\n",
        "import torch.optim as optim\n",
        "\n",
        "class ExperiNet(nn.Module):\n",
        "    #TODO: Change all this\n",
        "    def __init__(self):\n",
        "        super(ExperiNet, self).__init__()\n",
        "        self.fc1 = nn.Linear(28*28, 256)\n",
        "        self.fc2 = nn.Linear(256, 128)\n",
        "        self.fc3 = nn.Linear(128, 64)\n",
        "        self.fc4 = nn.Linear(64, 10)\n",
        "\n",
        "    def forward(self, x):\n",
        "        x = torch.flatten(x, 1)\n",
        "        x = self.fc1(x)\n",
        "        x = F.relu(x)\n",
        "        x = self.fc2(x)\n",
        "        x = F.relu(x)\n",
        "        x = self.fc3(x)\n",
        "        x = F.relu(x)\n",
        "        x = self.fc4(x)\n",
        "        x = F.log_softmax(x, dim=1)\n",
        "        return x"
      ],
      "execution_count": 23,
      "outputs": []
    },
    {
      "cell_type": "code",
      "metadata": {
        "colab": {
          "base_uri": "https://localhost:8080/",
          "height": 1000
        },
        "id": "IwXhKQcuw0bv",
        "outputId": "2f6e5def-275e-4357-cb4b-c474a6e18c88"
      },
      "source": [
        "expnet = ExperiNet()\n",
        "\n",
        "losses_expnet = train(expnet, data['train'], epochs=5, lr=0.01)\n",
        "plt.plot(smooth(losses_expnet, 50))\n",
        "\n",
        "print(\"Current accuracy: %f\" % accuracy(expnet, data['train']))\n",
        "print(\"Current accuracy: %f\" % accuracy(expnet, data['test']))"
      ],
      "execution_count": 24,
      "outputs": [
        {
          "output_type": "stream",
          "name": "stderr",
          "text": [
            "/usr/local/lib/python3.7/dist-packages/torch/utils/data/dataloader.py:481: UserWarning: This DataLoader will create 8 worker processes in total. Our suggested max number of worker in current system is 2, which is smaller than what this DataLoader is going to create. Please be aware that excessive worker creation might get DataLoader running slow or even freeze, lower the worker number to avoid potential slowness/freeze if necessary.\n",
            "  cpuset_checked))\n"
          ]
        },
        {
          "output_type": "stream",
          "name": "stdout",
          "text": [
            "[1,   100] loss: 2.269\n",
            "[1,   200] loss: 1.526\n",
            "[1,   300] loss: 0.680\n",
            "[1,   400] loss: 0.497\n",
            "[1,   500] loss: 0.449\n",
            "[1,   600] loss: 0.336\n",
            "[1,   700] loss: 0.329\n",
            "[1,   800] loss: 0.282\n",
            "[1,   900] loss: 0.266\n",
            "[1,  1000] loss: 0.248\n",
            "[1,  1100] loss: 0.231\n",
            "[1,  1200] loss: 0.223\n",
            "[1,  1300] loss: 0.206\n",
            "[1,  1400] loss: 0.212\n",
            "[1,  1500] loss: 0.182\n",
            "[1,  1600] loss: 0.175\n",
            "[1,  1700] loss: 0.163\n",
            "[1,  1800] loss: 0.184\n",
            "[2,   100] loss: 0.149\n",
            "[2,   200] loss: 0.128\n",
            "[2,   300] loss: 0.133\n",
            "[2,   400] loss: 0.142\n",
            "[2,   500] loss: 0.122\n",
            "[2,   600] loss: 0.119\n",
            "[2,   700] loss: 0.133\n",
            "[2,   800] loss: 0.117\n",
            "[2,   900] loss: 0.108\n",
            "[2,  1000] loss: 0.123\n",
            "[2,  1100] loss: 0.110\n",
            "[2,  1200] loss: 0.104\n",
            "[2,  1300] loss: 0.102\n",
            "[2,  1400] loss: 0.099\n",
            "[2,  1500] loss: 0.118\n",
            "[2,  1600] loss: 0.118\n",
            "[2,  1700] loss: 0.119\n",
            "[2,  1800] loss: 0.128\n",
            "[3,   100] loss: 0.080\n",
            "[3,   200] loss: 0.076\n",
            "[3,   300] loss: 0.083\n",
            "[3,   400] loss: 0.077\n",
            "[3,   500] loss: 0.093\n",
            "[3,   600] loss: 0.081\n",
            "[3,   700] loss: 0.099\n",
            "[3,   800] loss: 0.079\n",
            "[3,   900] loss: 0.088\n",
            "[3,  1000] loss: 0.072\n",
            "[3,  1100] loss: 0.065\n",
            "[3,  1200] loss: 0.086\n",
            "[3,  1300] loss: 0.077\n",
            "[3,  1400] loss: 0.089\n",
            "[3,  1500] loss: 0.088\n",
            "[3,  1600] loss: 0.063\n",
            "[3,  1700] loss: 0.074\n",
            "[3,  1800] loss: 0.076\n",
            "[4,   100] loss: 0.058\n",
            "[4,   200] loss: 0.059\n",
            "[4,   300] loss: 0.059\n",
            "[4,   400] loss: 0.062\n",
            "[4,   500] loss: 0.053\n",
            "[4,   600] loss: 0.062\n",
            "[4,   700] loss: 0.075\n",
            "[4,   800] loss: 0.051\n",
            "[4,   900] loss: 0.061\n",
            "[4,  1000] loss: 0.054\n",
            "[4,  1100] loss: 0.056\n",
            "[4,  1200] loss: 0.057\n",
            "[4,  1300] loss: 0.072\n",
            "[4,  1400] loss: 0.045\n",
            "[4,  1500] loss: 0.051\n",
            "[4,  1600] loss: 0.052\n",
            "[4,  1700] loss: 0.073\n",
            "[4,  1800] loss: 0.049\n",
            "[5,   100] loss: 0.050\n",
            "[5,   200] loss: 0.037\n",
            "[5,   300] loss: 0.035\n",
            "[5,   400] loss: 0.039\n",
            "[5,   500] loss: 0.042\n",
            "[5,   600] loss: 0.035\n",
            "[5,   700] loss: 0.047\n",
            "[5,   800] loss: 0.065\n",
            "[5,   900] loss: 0.048\n",
            "[5,  1000] loss: 0.046\n",
            "[5,  1100] loss: 0.049\n",
            "[5,  1200] loss: 0.040\n",
            "[5,  1300] loss: 0.048\n",
            "[5,  1400] loss: 0.042\n",
            "[5,  1500] loss: 0.031\n",
            "[5,  1600] loss: 0.060\n",
            "[5,  1700] loss: 0.054\n",
            "[5,  1800] loss: 0.050\n"
          ]
        },
        {
          "output_type": "stream",
          "name": "stderr",
          "text": [
            "/usr/local/lib/python3.7/dist-packages/torch/utils/data/dataloader.py:481: UserWarning: This DataLoader will create 8 worker processes in total. Our suggested max number of worker in current system is 2, which is smaller than what this DataLoader is going to create. Please be aware that excessive worker creation might get DataLoader running slow or even freeze, lower the worker number to avoid potential slowness/freeze if necessary.\n",
            "  cpuset_checked))\n"
          ]
        },
        {
          "output_type": "stream",
          "name": "stdout",
          "text": [
            "Current accuracy: 0.990250\n",
            "Current accuracy: 0.976600\n"
          ]
        },
        {
          "output_type": "display_data",
          "data": {
            "image/png": "[encoded data removed]",
            "text/plain": [
              "<Figure size 432x288 with 1 Axes>"
            ]
          },
          "metadata": {
            "needs_background": "light"
          }
        }
      ]
    },
    {
      "cell_type": "code",
      "metadata": {
        "colab": {
          "base_uri": "https://localhost:8080/",
          "height": 676
        },
        "id": "tBLY8Z7X0WKI",
        "outputId": "fa72e8b8-6fcb-49a9-ecad-5d0732a0fb73"
      },
      "source": [
        "lr_arr = [0.1, 0.01]\n",
        "m_arr = [0.9, 0.8]\n",
        "for lr in lr_arr:\n",
        "  for m in m_arr:\n",
        "    print(\"lr = \", lr, \", \", \"m = \", m)\n",
        "    expnet = ExperiNet()\n",
        "    losses_expnet = train(expnet, data['train'], epochs=5, lr=lr, momentum=m, verbose=0)\n",
        "    label = \"lr = \" + str(lr) + \", \" + \"m = \"+ str(m)\n",
        "    plt.plot(smooth(losses_expnet, 50), label=label)\n",
        "    print(\"Current train accuracy: %f\" % accuracy(expnet, data['train']))\n",
        "    print(\"Current test accuracy: %f\" % accuracy(expnet, data['test']))\n",
        "\n",
        "plt.legend()"
      ],
      "execution_count": 25,
      "outputs": [
        {
          "output_type": "stream",
          "name": "stdout",
          "text": [
            "lr =  0.1 ,  m =  0.9\n"
          ]
        },
        {
          "output_type": "stream",
          "name": "stderr",
          "text": [
            "/usr/local/lib/python3.7/dist-packages/torch/utils/data/dataloader.py:481: UserWarning: This DataLoader will create 8 worker processes in total. Our suggested max number of worker in current system is 2, which is smaller than what this DataLoader is going to create. Please be aware that excessive worker creation might get DataLoader running slow or even freeze, lower the worker number to avoid potential slowness/freeze if necessary.\n",
            "  cpuset_checked))\n",
            "/usr/local/lib/python3.7/dist-packages/torch/utils/data/dataloader.py:481: UserWarning: This DataLoader will create 8 worker processes in total. Our suggested max number of worker in current system is 2, which is smaller than what this DataLoader is going to create. Please be aware that excessive worker creation might get DataLoader running slow or even freeze, lower the worker number to avoid potential slowness/freeze if necessary.\n",
            "  cpuset_checked))\n"
          ]
        },
        {
          "output_type": "stream",
          "name": "stdout",
          "text": [
            "Current train accuracy: 0.967783\n",
            "Current test accuracy: 0.960700\n",
            "lr =  0.1 ,  m =  0.8\n"
          ]
        },
        {
          "output_type": "stream",
          "name": "stderr",
          "text": [
            "/usr/local/lib/python3.7/dist-packages/torch/utils/data/dataloader.py:481: UserWarning: This DataLoader will create 8 worker processes in total. Our suggested max number of worker in current system is 2, which is smaller than what this DataLoader is going to create. Please be aware that excessive worker creation might get DataLoader running slow or even freeze, lower the worker number to avoid potential slowness/freeze if necessary.\n",
            "  cpuset_checked))\n"
          ]
        },
        {
          "output_type": "stream",
          "name": "stdout",
          "text": [
            "Current train accuracy: 0.987533\n",
            "Current test accuracy: 0.975800\n",
            "lr =  0.01 ,  m =  0.9\n"
          ]
        },
        {
          "output_type": "stream",
          "name": "stderr",
          "text": [
            "/usr/local/lib/python3.7/dist-packages/torch/utils/data/dataloader.py:481: UserWarning: This DataLoader will create 8 worker processes in total. Our suggested max number of worker in current system is 2, which is smaller than what this DataLoader is going to create. Please be aware that excessive worker creation might get DataLoader running slow or even freeze, lower the worker number to avoid potential slowness/freeze if necessary.\n",
            "  cpuset_checked))\n"
          ]
        },
        {
          "output_type": "stream",
          "name": "stdout",
          "text": [
            "Current train accuracy: 0.989983\n",
            "Current test accuracy: 0.977500\n",
            "lr =  0.01 ,  m =  0.8\n"
          ]
        },
        {
          "output_type": "stream",
          "name": "stderr",
          "text": [
            "/usr/local/lib/python3.7/dist-packages/torch/utils/data/dataloader.py:481: UserWarning: This DataLoader will create 8 worker processes in total. Our suggested max number of worker in current system is 2, which is smaller than what this DataLoader is going to create. Please be aware that excessive worker creation might get DataLoader running slow or even freeze, lower the worker number to avoid potential slowness/freeze if necessary.\n",
            "  cpuset_checked))\n"
          ]
        },
        {
          "output_type": "stream",
          "name": "stdout",
          "text": [
            "Current train accuracy: 0.987000\n",
            "Current test accuracy: 0.977100\n"
          ]
        },
        {
          "output_type": "execute_result",
          "data": {
            "text/plain": [
              "<matplotlib.legend.Legend at 0x7f37027531d0>"
            ]
          },
          "metadata": {},
          "execution_count": 25
        },
        {
          "output_type": "display_data",
          "data": {
            "image/png": "[encoded data removed]",
            "text/plain": [
              "<Figure size 432x288 with 1 Axes>"
            ]
          },
          "metadata": {
            "needs_background": "light"
          }
        }
      ]
    },
    {
      "cell_type": "markdown",
      "metadata": {
        "id": "ba1kcHtIf-Gg"
      },
      "source": [
        "##Download and submit!##\n",
        "\n",
        "Download your iPythorn notebook from Colab to your `hw0` directory. Then follow the instructions to collate and submit your homework."
      ]
    }
  ]
}